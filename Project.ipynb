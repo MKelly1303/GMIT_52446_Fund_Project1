{
 "cells": [
  {
   "cell_type": "markdown",
   "metadata": {},
   "source": [
    "## GMIT 52446 Fundamentals of Data Analysis - Project\n",
    "## Mark Kelly - 2018\n",
    "\n",
    "Problem statement The box plot is common in data analysis for investigating individual numerical variables. In this project, you will investigate and explain box plots and their uses. The boxplot function from the Python package matplotlib.pyplot can be used to create box plots. \n",
    "\n",
    "Your submission should be in the form of a repository containing a Jupyter notebook in which you detail your ﬁndings. \n",
    "\n",
    "In your notebook, you should: \n",
    "\n",
    "• Summarise the history of the box plot and situations in which it used. \n",
    "\n",
    "• Demonstrate the use of the box plot using data of your choosing. \n",
    "\n",
    "• Explain any relevant terminology such as the terms quartile and percentile. \n",
    "\n",
    "• Compare the box plot to alternatives.\n"
   ]
  },
  {
   "cell_type": "code",
   "execution_count": null,
   "metadata": {
    "collapsed": true
   },
   "outputs": [],
   "source": []
  }
 ],
 "metadata": {
  "kernelspec": {
   "display_name": "Python 3",
   "language": "python",
   "name": "python3"
  },
  "language_info": {
   "codemirror_mode": {
    "name": "ipython",
    "version": 3
   },
   "file_extension": ".py",
   "mimetype": "text/x-python",
   "name": "python",
   "nbconvert_exporter": "python",
   "pygments_lexer": "ipython3",
   "version": "3.6.3"
  }
 },
 "nbformat": 4,
 "nbformat_minor": 2
}
